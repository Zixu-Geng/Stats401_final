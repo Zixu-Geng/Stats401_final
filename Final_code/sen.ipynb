{
 "cells": [
  {
   "cell_type": "code",
   "execution_count": 44,
   "id": "ffd0edbc",
   "metadata": {
    "scrolled": true
   },
   "outputs": [
    {
     "name": "stdout",
     "output_type": "stream",
     "text": [
      "Requirement already satisfied: vaderSentiment in /Users/jingluochengzhou/anaconda3/lib/python3.8/site-packages (3.3.2)\n",
      "Requirement already satisfied: requests in /Users/jingluochengzhou/anaconda3/lib/python3.8/site-packages (from vaderSentiment) (2.28.1)\n",
      "Requirement already satisfied: idna<4,>=2.5 in /Users/jingluochengzhou/anaconda3/lib/python3.8/site-packages (from requests->vaderSentiment) (3.3)\n",
      "Requirement already satisfied: certifi>=2017.4.17 in /Users/jingluochengzhou/anaconda3/lib/python3.8/site-packages (from requests->vaderSentiment) (2022.6.15)\n",
      "Requirement already satisfied: charset-normalizer<3,>=2 in /Users/jingluochengzhou/anaconda3/lib/python3.8/site-packages (from requests->vaderSentiment) (2.0.4)\n",
      "Requirement already satisfied: urllib3<1.27,>=1.21.1 in /Users/jingluochengzhou/anaconda3/lib/python3.8/site-packages (from requests->vaderSentiment) (1.26.11)\n",
      "\n",
      "\u001b[1m[\u001b[0m\u001b[34;49mnotice\u001b[0m\u001b[1;39;49m]\u001b[0m\u001b[39;49m A new release of pip available: \u001b[0m\u001b[31;49m22.2.1\u001b[0m\u001b[39;49m -> \u001b[0m\u001b[32;49m22.2.2\u001b[0m\n",
      "\u001b[1m[\u001b[0m\u001b[34;49mnotice\u001b[0m\u001b[1;39;49m]\u001b[0m\u001b[39;49m To update, run: \u001b[0m\u001b[32;49mpip install --upgrade pip\u001b[0m\n",
      "Requirement already satisfied: pyspark in /Users/jingluochengzhou/anaconda3/lib/python3.8/site-packages (3.3.0)\n",
      "Requirement already satisfied: py4j==0.10.9.5 in /Users/jingluochengzhou/anaconda3/lib/python3.8/site-packages (from pyspark) (0.10.9.5)\n",
      "\n",
      "\u001b[1m[\u001b[0m\u001b[34;49mnotice\u001b[0m\u001b[1;39;49m]\u001b[0m\u001b[39;49m A new release of pip available: \u001b[0m\u001b[31;49m22.2.1\u001b[0m\u001b[39;49m -> \u001b[0m\u001b[32;49m22.2.2\u001b[0m\n",
      "\u001b[1m[\u001b[0m\u001b[34;49mnotice\u001b[0m\u001b[1;39;49m]\u001b[0m\u001b[39;49m To update, run: \u001b[0m\u001b[32;49mpip install --upgrade pip\u001b[0m\n"
     ]
    }
   ],
   "source": [
    "!pip install vaderSentiment\n",
    "!pip install pyspark"
   ]
  },
  {
   "cell_type": "code",
   "execution_count": 6,
   "id": "6a67a9a0",
   "metadata": {},
   "outputs": [
    {
     "data": {
      "application/vnd.plotly.v1+json": {
       "config": {
        "plotlyServerURL": "https://plotly.com"
       },
       "data": [
        {
         "domain": {
          "x": [
           0,
           1
          ],
          "y": [
           0,
           1
          ]
         },
         "hovertemplate": "character=%{label}<br>value=%{value}<br>parent=%{parent}<extra></extra>",
         "labels": [
          " ",
          "before",
          "after",
          "travel",
          "movie",
          "sports",
          "game",
          "food",
          "travel",
          "movie",
          "sports",
          "game",
          "food"
         ],
         "name": "",
         "parents": [
          "",
          "positive",
          "positive",
          "before",
          "before",
          "before",
          "before",
          "before",
          "after",
          "after",
          "after",
          "after",
          "after"
         ],
         "type": "sunburst",
         "values": [
          0,
          1.78,
          1.813,
          0.395,
          0.289,
          0.343,
          0.359,
          0.395,
          0.362,
          0.307,
          0.356,
          0.399,
          0.388
         ]
        }
       ],
       "layout": {
        "legend": {
         "tracegroupgap": 0
        },
        "margin": {
         "t": 60
        },
        "template": {
         "data": {
          "bar": [
           {
            "error_x": {
             "color": "#2a3f5f"
            },
            "error_y": {
             "color": "#2a3f5f"
            },
            "marker": {
             "line": {
              "color": "#E5ECF6",
              "width": 0.5
             },
             "pattern": {
              "fillmode": "overlay",
              "size": 10,
              "solidity": 0.2
             }
            },
            "type": "bar"
           }
          ],
          "barpolar": [
           {
            "marker": {
             "line": {
              "color": "#E5ECF6",
              "width": 0.5
             },
             "pattern": {
              "fillmode": "overlay",
              "size": 10,
              "solidity": 0.2
             }
            },
            "type": "barpolar"
           }
          ],
          "carpet": [
           {
            "aaxis": {
             "endlinecolor": "#2a3f5f",
             "gridcolor": "white",
             "linecolor": "white",
             "minorgridcolor": "white",
             "startlinecolor": "#2a3f5f"
            },
            "baxis": {
             "endlinecolor": "#2a3f5f",
             "gridcolor": "white",
             "linecolor": "white",
             "minorgridcolor": "white",
             "startlinecolor": "#2a3f5f"
            },
            "type": "carpet"
           }
          ],
          "choropleth": [
           {
            "colorbar": {
             "outlinewidth": 0,
             "ticks": ""
            },
            "type": "choropleth"
           }
          ],
          "contour": [
           {
            "colorbar": {
             "outlinewidth": 0,
             "ticks": ""
            },
            "colorscale": [
             [
              0,
              "#0d0887"
             ],
             [
              0.1111111111111111,
              "#46039f"
             ],
             [
              0.2222222222222222,
              "#7201a8"
             ],
             [
              0.3333333333333333,
              "#9c179e"
             ],
             [
              0.4444444444444444,
              "#bd3786"
             ],
             [
              0.5555555555555556,
              "#d8576b"
             ],
             [
              0.6666666666666666,
              "#ed7953"
             ],
             [
              0.7777777777777778,
              "#fb9f3a"
             ],
             [
              0.8888888888888888,
              "#fdca26"
             ],
             [
              1,
              "#f0f921"
             ]
            ],
            "type": "contour"
           }
          ],
          "contourcarpet": [
           {
            "colorbar": {
             "outlinewidth": 0,
             "ticks": ""
            },
            "type": "contourcarpet"
           }
          ],
          "heatmap": [
           {
            "colorbar": {
             "outlinewidth": 0,
             "ticks": ""
            },
            "colorscale": [
             [
              0,
              "#0d0887"
             ],
             [
              0.1111111111111111,
              "#46039f"
             ],
             [
              0.2222222222222222,
              "#7201a8"
             ],
             [
              0.3333333333333333,
              "#9c179e"
             ],
             [
              0.4444444444444444,
              "#bd3786"
             ],
             [
              0.5555555555555556,
              "#d8576b"
             ],
             [
              0.6666666666666666,
              "#ed7953"
             ],
             [
              0.7777777777777778,
              "#fb9f3a"
             ],
             [
              0.8888888888888888,
              "#fdca26"
             ],
             [
              1,
              "#f0f921"
             ]
            ],
            "type": "heatmap"
           }
          ],
          "heatmapgl": [
           {
            "colorbar": {
             "outlinewidth": 0,
             "ticks": ""
            },
            "colorscale": [
             [
              0,
              "#0d0887"
             ],
             [
              0.1111111111111111,
              "#46039f"
             ],
             [
              0.2222222222222222,
              "#7201a8"
             ],
             [
              0.3333333333333333,
              "#9c179e"
             ],
             [
              0.4444444444444444,
              "#bd3786"
             ],
             [
              0.5555555555555556,
              "#d8576b"
             ],
             [
              0.6666666666666666,
              "#ed7953"
             ],
             [
              0.7777777777777778,
              "#fb9f3a"
             ],
             [
              0.8888888888888888,
              "#fdca26"
             ],
             [
              1,
              "#f0f921"
             ]
            ],
            "type": "heatmapgl"
           }
          ],
          "histogram": [
           {
            "marker": {
             "pattern": {
              "fillmode": "overlay",
              "size": 10,
              "solidity": 0.2
             }
            },
            "type": "histogram"
           }
          ],
          "histogram2d": [
           {
            "colorbar": {
             "outlinewidth": 0,
             "ticks": ""
            },
            "colorscale": [
             [
              0,
              "#0d0887"
             ],
             [
              0.1111111111111111,
              "#46039f"
             ],
             [
              0.2222222222222222,
              "#7201a8"
             ],
             [
              0.3333333333333333,
              "#9c179e"
             ],
             [
              0.4444444444444444,
              "#bd3786"
             ],
             [
              0.5555555555555556,
              "#d8576b"
             ],
             [
              0.6666666666666666,
              "#ed7953"
             ],
             [
              0.7777777777777778,
              "#fb9f3a"
             ],
             [
              0.8888888888888888,
              "#fdca26"
             ],
             [
              1,
              "#f0f921"
             ]
            ],
            "type": "histogram2d"
           }
          ],
          "histogram2dcontour": [
           {
            "colorbar": {
             "outlinewidth": 0,
             "ticks": ""
            },
            "colorscale": [
             [
              0,
              "#0d0887"
             ],
             [
              0.1111111111111111,
              "#46039f"
             ],
             [
              0.2222222222222222,
              "#7201a8"
             ],
             [
              0.3333333333333333,
              "#9c179e"
             ],
             [
              0.4444444444444444,
              "#bd3786"
             ],
             [
              0.5555555555555556,
              "#d8576b"
             ],
             [
              0.6666666666666666,
              "#ed7953"
             ],
             [
              0.7777777777777778,
              "#fb9f3a"
             ],
             [
              0.8888888888888888,
              "#fdca26"
             ],
             [
              1,
              "#f0f921"
             ]
            ],
            "type": "histogram2dcontour"
           }
          ],
          "mesh3d": [
           {
            "colorbar": {
             "outlinewidth": 0,
             "ticks": ""
            },
            "type": "mesh3d"
           }
          ],
          "parcoords": [
           {
            "line": {
             "colorbar": {
              "outlinewidth": 0,
              "ticks": ""
             }
            },
            "type": "parcoords"
           }
          ],
          "pie": [
           {
            "automargin": true,
            "type": "pie"
           }
          ],
          "scatter": [
           {
            "fillpattern": {
             "fillmode": "overlay",
             "size": 10,
             "solidity": 0.2
            },
            "type": "scatter"
           }
          ],
          "scatter3d": [
           {
            "line": {
             "colorbar": {
              "outlinewidth": 0,
              "ticks": ""
             }
            },
            "marker": {
             "colorbar": {
              "outlinewidth": 0,
              "ticks": ""
             }
            },
            "type": "scatter3d"
           }
          ],
          "scattercarpet": [
           {
            "marker": {
             "colorbar": {
              "outlinewidth": 0,
              "ticks": ""
             }
            },
            "type": "scattercarpet"
           }
          ],
          "scattergeo": [
           {
            "marker": {
             "colorbar": {
              "outlinewidth": 0,
              "ticks": ""
             }
            },
            "type": "scattergeo"
           }
          ],
          "scattergl": [
           {
            "marker": {
             "colorbar": {
              "outlinewidth": 0,
              "ticks": ""
             }
            },
            "type": "scattergl"
           }
          ],
          "scattermapbox": [
           {
            "marker": {
             "colorbar": {
              "outlinewidth": 0,
              "ticks": ""
             }
            },
            "type": "scattermapbox"
           }
          ],
          "scatterpolar": [
           {
            "marker": {
             "colorbar": {
              "outlinewidth": 0,
              "ticks": ""
             }
            },
            "type": "scatterpolar"
           }
          ],
          "scatterpolargl": [
           {
            "marker": {
             "colorbar": {
              "outlinewidth": 0,
              "ticks": ""
             }
            },
            "type": "scatterpolargl"
           }
          ],
          "scatterternary": [
           {
            "marker": {
             "colorbar": {
              "outlinewidth": 0,
              "ticks": ""
             }
            },
            "type": "scatterternary"
           }
          ],
          "surface": [
           {
            "colorbar": {
             "outlinewidth": 0,
             "ticks": ""
            },
            "colorscale": [
             [
              0,
              "#0d0887"
             ],
             [
              0.1111111111111111,
              "#46039f"
             ],
             [
              0.2222222222222222,
              "#7201a8"
             ],
             [
              0.3333333333333333,
              "#9c179e"
             ],
             [
              0.4444444444444444,
              "#bd3786"
             ],
             [
              0.5555555555555556,
              "#d8576b"
             ],
             [
              0.6666666666666666,
              "#ed7953"
             ],
             [
              0.7777777777777778,
              "#fb9f3a"
             ],
             [
              0.8888888888888888,
              "#fdca26"
             ],
             [
              1,
              "#f0f921"
             ]
            ],
            "type": "surface"
           }
          ],
          "table": [
           {
            "cells": {
             "fill": {
              "color": "#EBF0F8"
             },
             "line": {
              "color": "white"
             }
            },
            "header": {
             "fill": {
              "color": "#C8D4E3"
             },
             "line": {
              "color": "white"
             }
            },
            "type": "table"
           }
          ]
         },
         "layout": {
          "annotationdefaults": {
           "arrowcolor": "#2a3f5f",
           "arrowhead": 0,
           "arrowwidth": 1
          },
          "autotypenumbers": "strict",
          "coloraxis": {
           "colorbar": {
            "outlinewidth": 0,
            "ticks": ""
           }
          },
          "colorscale": {
           "diverging": [
            [
             0,
             "#8e0152"
            ],
            [
             0.1,
             "#c51b7d"
            ],
            [
             0.2,
             "#de77ae"
            ],
            [
             0.3,
             "#f1b6da"
            ],
            [
             0.4,
             "#fde0ef"
            ],
            [
             0.5,
             "#f7f7f7"
            ],
            [
             0.6,
             "#e6f5d0"
            ],
            [
             0.7,
             "#b8e186"
            ],
            [
             0.8,
             "#7fbc41"
            ],
            [
             0.9,
             "#4d9221"
            ],
            [
             1,
             "#276419"
            ]
           ],
           "sequential": [
            [
             0,
             "#0d0887"
            ],
            [
             0.1111111111111111,
             "#46039f"
            ],
            [
             0.2222222222222222,
             "#7201a8"
            ],
            [
             0.3333333333333333,
             "#9c179e"
            ],
            [
             0.4444444444444444,
             "#bd3786"
            ],
            [
             0.5555555555555556,
             "#d8576b"
            ],
            [
             0.6666666666666666,
             "#ed7953"
            ],
            [
             0.7777777777777778,
             "#fb9f3a"
            ],
            [
             0.8888888888888888,
             "#fdca26"
            ],
            [
             1,
             "#f0f921"
            ]
           ],
           "sequentialminus": [
            [
             0,
             "#0d0887"
            ],
            [
             0.1111111111111111,
             "#46039f"
            ],
            [
             0.2222222222222222,
             "#7201a8"
            ],
            [
             0.3333333333333333,
             "#9c179e"
            ],
            [
             0.4444444444444444,
             "#bd3786"
            ],
            [
             0.5555555555555556,
             "#d8576b"
            ],
            [
             0.6666666666666666,
             "#ed7953"
            ],
            [
             0.7777777777777778,
             "#fb9f3a"
            ],
            [
             0.8888888888888888,
             "#fdca26"
            ],
            [
             1,
             "#f0f921"
            ]
           ]
          },
          "colorway": [
           "#636efa",
           "#EF553B",
           "#00cc96",
           "#ab63fa",
           "#FFA15A",
           "#19d3f3",
           "#FF6692",
           "#B6E880",
           "#FF97FF",
           "#FECB52"
          ],
          "font": {
           "color": "#2a3f5f"
          },
          "geo": {
           "bgcolor": "white",
           "lakecolor": "white",
           "landcolor": "#E5ECF6",
           "showlakes": true,
           "showland": true,
           "subunitcolor": "white"
          },
          "hoverlabel": {
           "align": "left"
          },
          "hovermode": "closest",
          "mapbox": {
           "style": "light"
          },
          "paper_bgcolor": "white",
          "plot_bgcolor": "#E5ECF6",
          "polar": {
           "angularaxis": {
            "gridcolor": "white",
            "linecolor": "white",
            "ticks": ""
           },
           "bgcolor": "#E5ECF6",
           "radialaxis": {
            "gridcolor": "white",
            "linecolor": "white",
            "ticks": ""
           }
          },
          "scene": {
           "xaxis": {
            "backgroundcolor": "#E5ECF6",
            "gridcolor": "white",
            "gridwidth": 2,
            "linecolor": "white",
            "showbackground": true,
            "ticks": "",
            "zerolinecolor": "white"
           },
           "yaxis": {
            "backgroundcolor": "#E5ECF6",
            "gridcolor": "white",
            "gridwidth": 2,
            "linecolor": "white",
            "showbackground": true,
            "ticks": "",
            "zerolinecolor": "white"
           },
           "zaxis": {
            "backgroundcolor": "#E5ECF6",
            "gridcolor": "white",
            "gridwidth": 2,
            "linecolor": "white",
            "showbackground": true,
            "ticks": "",
            "zerolinecolor": "white"
           }
          },
          "shapedefaults": {
           "line": {
            "color": "#2a3f5f"
           }
          },
          "ternary": {
           "aaxis": {
            "gridcolor": "white",
            "linecolor": "white",
            "ticks": ""
           },
           "baxis": {
            "gridcolor": "white",
            "linecolor": "white",
            "ticks": ""
           },
           "bgcolor": "#E5ECF6",
           "caxis": {
            "gridcolor": "white",
            "linecolor": "white",
            "ticks": ""
           }
          },
          "title": {
           "x": 0.05
          },
          "xaxis": {
           "automargin": true,
           "gridcolor": "white",
           "linecolor": "white",
           "ticks": "",
           "title": {
            "standoff": 15
           },
           "zerolinecolor": "white",
           "zerolinewidth": 2
          },
          "yaxis": {
           "automargin": true,
           "gridcolor": "white",
           "linecolor": "white",
           "ticks": "",
           "title": {
            "standoff": 15
           },
           "zerolinecolor": "white",
           "zerolinewidth": 2
          }
         }
        }
       }
      },
      "text/html": [
       "<div>                            <div id=\"a0b18928-e08f-4257-a2db-23cbc33609f6\" class=\"plotly-graph-div\" style=\"height:525px; width:100%;\"></div>            <script type=\"text/javascript\">                require([\"plotly\"], function(Plotly) {                    window.PLOTLYENV=window.PLOTLYENV || {};                                    if (document.getElementById(\"a0b18928-e08f-4257-a2db-23cbc33609f6\")) {                    Plotly.newPlot(                        \"a0b18928-e08f-4257-a2db-23cbc33609f6\",                        [{\"domain\":{\"x\":[0.0,1.0],\"y\":[0.0,1.0]},\"hovertemplate\":\"character=%{label}<br>value=%{value}<br>parent=%{parent}<extra></extra>\",\"labels\":[\" \",\"before\",\"after\",\"travel\",\"movie\",\"sports\",\"game\",\"food\",\"travel\",\"movie\",\"sports\",\"game\",\"food\"],\"name\":\"\",\"parents\":[\"\",\"positive\",\"positive\",\"before\",\"before\",\"before\",\"before\",\"before\",\"after\",\"after\",\"after\",\"after\",\"after\"],\"values\":[0.0,1.78,1.813,0.395,0.289,0.343,0.359,0.395,0.362,0.307,0.356,0.399,0.388],\"type\":\"sunburst\"}],                        {\"template\":{\"data\":{\"histogram2dcontour\":[{\"type\":\"histogram2dcontour\",\"colorbar\":{\"outlinewidth\":0,\"ticks\":\"\"},\"colorscale\":[[0.0,\"#0d0887\"],[0.1111111111111111,\"#46039f\"],[0.2222222222222222,\"#7201a8\"],[0.3333333333333333,\"#9c179e\"],[0.4444444444444444,\"#bd3786\"],[0.5555555555555556,\"#d8576b\"],[0.6666666666666666,\"#ed7953\"],[0.7777777777777778,\"#fb9f3a\"],[0.8888888888888888,\"#fdca26\"],[1.0,\"#f0f921\"]]}],\"choropleth\":[{\"type\":\"choropleth\",\"colorbar\":{\"outlinewidth\":0,\"ticks\":\"\"}}],\"histogram2d\":[{\"type\":\"histogram2d\",\"colorbar\":{\"outlinewidth\":0,\"ticks\":\"\"},\"colorscale\":[[0.0,\"#0d0887\"],[0.1111111111111111,\"#46039f\"],[0.2222222222222222,\"#7201a8\"],[0.3333333333333333,\"#9c179e\"],[0.4444444444444444,\"#bd3786\"],[0.5555555555555556,\"#d8576b\"],[0.6666666666666666,\"#ed7953\"],[0.7777777777777778,\"#fb9f3a\"],[0.8888888888888888,\"#fdca26\"],[1.0,\"#f0f921\"]]}],\"heatmap\":[{\"type\":\"heatmap\",\"colorbar\":{\"outlinewidth\":0,\"ticks\":\"\"},\"colorscale\":[[0.0,\"#0d0887\"],[0.1111111111111111,\"#46039f\"],[0.2222222222222222,\"#7201a8\"],[0.3333333333333333,\"#9c179e\"],[0.4444444444444444,\"#bd3786\"],[0.5555555555555556,\"#d8576b\"],[0.6666666666666666,\"#ed7953\"],[0.7777777777777778,\"#fb9f3a\"],[0.8888888888888888,\"#fdca26\"],[1.0,\"#f0f921\"]]}],\"heatmapgl\":[{\"type\":\"heatmapgl\",\"colorbar\":{\"outlinewidth\":0,\"ticks\":\"\"},\"colorscale\":[[0.0,\"#0d0887\"],[0.1111111111111111,\"#46039f\"],[0.2222222222222222,\"#7201a8\"],[0.3333333333333333,\"#9c179e\"],[0.4444444444444444,\"#bd3786\"],[0.5555555555555556,\"#d8576b\"],[0.6666666666666666,\"#ed7953\"],[0.7777777777777778,\"#fb9f3a\"],[0.8888888888888888,\"#fdca26\"],[1.0,\"#f0f921\"]]}],\"contourcarpet\":[{\"type\":\"contourcarpet\",\"colorbar\":{\"outlinewidth\":0,\"ticks\":\"\"}}],\"contour\":[{\"type\":\"contour\",\"colorbar\":{\"outlinewidth\":0,\"ticks\":\"\"},\"colorscale\":[[0.0,\"#0d0887\"],[0.1111111111111111,\"#46039f\"],[0.2222222222222222,\"#7201a8\"],[0.3333333333333333,\"#9c179e\"],[0.4444444444444444,\"#bd3786\"],[0.5555555555555556,\"#d8576b\"],[0.6666666666666666,\"#ed7953\"],[0.7777777777777778,\"#fb9f3a\"],[0.8888888888888888,\"#fdca26\"],[1.0,\"#f0f921\"]]}],\"surface\":[{\"type\":\"surface\",\"colorbar\":{\"outlinewidth\":0,\"ticks\":\"\"},\"colorscale\":[[0.0,\"#0d0887\"],[0.1111111111111111,\"#46039f\"],[0.2222222222222222,\"#7201a8\"],[0.3333333333333333,\"#9c179e\"],[0.4444444444444444,\"#bd3786\"],[0.5555555555555556,\"#d8576b\"],[0.6666666666666666,\"#ed7953\"],[0.7777777777777778,\"#fb9f3a\"],[0.8888888888888888,\"#fdca26\"],[1.0,\"#f0f921\"]]}],\"mesh3d\":[{\"type\":\"mesh3d\",\"colorbar\":{\"outlinewidth\":0,\"ticks\":\"\"}}],\"scatter\":[{\"fillpattern\":{\"fillmode\":\"overlay\",\"size\":10,\"solidity\":0.2},\"type\":\"scatter\"}],\"parcoords\":[{\"type\":\"parcoords\",\"line\":{\"colorbar\":{\"outlinewidth\":0,\"ticks\":\"\"}}}],\"scatterpolargl\":[{\"type\":\"scatterpolargl\",\"marker\":{\"colorbar\":{\"outlinewidth\":0,\"ticks\":\"\"}}}],\"bar\":[{\"error_x\":{\"color\":\"#2a3f5f\"},\"error_y\":{\"color\":\"#2a3f5f\"},\"marker\":{\"line\":{\"color\":\"#E5ECF6\",\"width\":0.5},\"pattern\":{\"fillmode\":\"overlay\",\"size\":10,\"solidity\":0.2}},\"type\":\"bar\"}],\"scattergeo\":[{\"type\":\"scattergeo\",\"marker\":{\"colorbar\":{\"outlinewidth\":0,\"ticks\":\"\"}}}],\"scatterpolar\":[{\"type\":\"scatterpolar\",\"marker\":{\"colorbar\":{\"outlinewidth\":0,\"ticks\":\"\"}}}],\"histogram\":[{\"marker\":{\"pattern\":{\"fillmode\":\"overlay\",\"size\":10,\"solidity\":0.2}},\"type\":\"histogram\"}],\"scattergl\":[{\"type\":\"scattergl\",\"marker\":{\"colorbar\":{\"outlinewidth\":0,\"ticks\":\"\"}}}],\"scatter3d\":[{\"type\":\"scatter3d\",\"line\":{\"colorbar\":{\"outlinewidth\":0,\"ticks\":\"\"}},\"marker\":{\"colorbar\":{\"outlinewidth\":0,\"ticks\":\"\"}}}],\"scattermapbox\":[{\"type\":\"scattermapbox\",\"marker\":{\"colorbar\":{\"outlinewidth\":0,\"ticks\":\"\"}}}],\"scatterternary\":[{\"type\":\"scatterternary\",\"marker\":{\"colorbar\":{\"outlinewidth\":0,\"ticks\":\"\"}}}],\"scattercarpet\":[{\"type\":\"scattercarpet\",\"marker\":{\"colorbar\":{\"outlinewidth\":0,\"ticks\":\"\"}}}],\"carpet\":[{\"aaxis\":{\"endlinecolor\":\"#2a3f5f\",\"gridcolor\":\"white\",\"linecolor\":\"white\",\"minorgridcolor\":\"white\",\"startlinecolor\":\"#2a3f5f\"},\"baxis\":{\"endlinecolor\":\"#2a3f5f\",\"gridcolor\":\"white\",\"linecolor\":\"white\",\"minorgridcolor\":\"white\",\"startlinecolor\":\"#2a3f5f\"},\"type\":\"carpet\"}],\"table\":[{\"cells\":{\"fill\":{\"color\":\"#EBF0F8\"},\"line\":{\"color\":\"white\"}},\"header\":{\"fill\":{\"color\":\"#C8D4E3\"},\"line\":{\"color\":\"white\"}},\"type\":\"table\"}],\"barpolar\":[{\"marker\":{\"line\":{\"color\":\"#E5ECF6\",\"width\":0.5},\"pattern\":{\"fillmode\":\"overlay\",\"size\":10,\"solidity\":0.2}},\"type\":\"barpolar\"}],\"pie\":[{\"automargin\":true,\"type\":\"pie\"}]},\"layout\":{\"autotypenumbers\":\"strict\",\"colorway\":[\"#636efa\",\"#EF553B\",\"#00cc96\",\"#ab63fa\",\"#FFA15A\",\"#19d3f3\",\"#FF6692\",\"#B6E880\",\"#FF97FF\",\"#FECB52\"],\"font\":{\"color\":\"#2a3f5f\"},\"hovermode\":\"closest\",\"hoverlabel\":{\"align\":\"left\"},\"paper_bgcolor\":\"white\",\"plot_bgcolor\":\"#E5ECF6\",\"polar\":{\"bgcolor\":\"#E5ECF6\",\"angularaxis\":{\"gridcolor\":\"white\",\"linecolor\":\"white\",\"ticks\":\"\"},\"radialaxis\":{\"gridcolor\":\"white\",\"linecolor\":\"white\",\"ticks\":\"\"}},\"ternary\":{\"bgcolor\":\"#E5ECF6\",\"aaxis\":{\"gridcolor\":\"white\",\"linecolor\":\"white\",\"ticks\":\"\"},\"baxis\":{\"gridcolor\":\"white\",\"linecolor\":\"white\",\"ticks\":\"\"},\"caxis\":{\"gridcolor\":\"white\",\"linecolor\":\"white\",\"ticks\":\"\"}},\"coloraxis\":{\"colorbar\":{\"outlinewidth\":0,\"ticks\":\"\"}},\"colorscale\":{\"sequential\":[[0.0,\"#0d0887\"],[0.1111111111111111,\"#46039f\"],[0.2222222222222222,\"#7201a8\"],[0.3333333333333333,\"#9c179e\"],[0.4444444444444444,\"#bd3786\"],[0.5555555555555556,\"#d8576b\"],[0.6666666666666666,\"#ed7953\"],[0.7777777777777778,\"#fb9f3a\"],[0.8888888888888888,\"#fdca26\"],[1.0,\"#f0f921\"]],\"sequentialminus\":[[0.0,\"#0d0887\"],[0.1111111111111111,\"#46039f\"],[0.2222222222222222,\"#7201a8\"],[0.3333333333333333,\"#9c179e\"],[0.4444444444444444,\"#bd3786\"],[0.5555555555555556,\"#d8576b\"],[0.6666666666666666,\"#ed7953\"],[0.7777777777777778,\"#fb9f3a\"],[0.8888888888888888,\"#fdca26\"],[1.0,\"#f0f921\"]],\"diverging\":[[0,\"#8e0152\"],[0.1,\"#c51b7d\"],[0.2,\"#de77ae\"],[0.3,\"#f1b6da\"],[0.4,\"#fde0ef\"],[0.5,\"#f7f7f7\"],[0.6,\"#e6f5d0\"],[0.7,\"#b8e186\"],[0.8,\"#7fbc41\"],[0.9,\"#4d9221\"],[1,\"#276419\"]]},\"xaxis\":{\"gridcolor\":\"white\",\"linecolor\":\"white\",\"ticks\":\"\",\"title\":{\"standoff\":15},\"zerolinecolor\":\"white\",\"automargin\":true,\"zerolinewidth\":2},\"yaxis\":{\"gridcolor\":\"white\",\"linecolor\":\"white\",\"ticks\":\"\",\"title\":{\"standoff\":15},\"zerolinecolor\":\"white\",\"automargin\":true,\"zerolinewidth\":2},\"scene\":{\"xaxis\":{\"backgroundcolor\":\"#E5ECF6\",\"gridcolor\":\"white\",\"linecolor\":\"white\",\"showbackground\":true,\"ticks\":\"\",\"zerolinecolor\":\"white\",\"gridwidth\":2},\"yaxis\":{\"backgroundcolor\":\"#E5ECF6\",\"gridcolor\":\"white\",\"linecolor\":\"white\",\"showbackground\":true,\"ticks\":\"\",\"zerolinecolor\":\"white\",\"gridwidth\":2},\"zaxis\":{\"backgroundcolor\":\"#E5ECF6\",\"gridcolor\":\"white\",\"linecolor\":\"white\",\"showbackground\":true,\"ticks\":\"\",\"zerolinecolor\":\"white\",\"gridwidth\":2}},\"shapedefaults\":{\"line\":{\"color\":\"#2a3f5f\"}},\"annotationdefaults\":{\"arrowcolor\":\"#2a3f5f\",\"arrowhead\":0,\"arrowwidth\":1},\"geo\":{\"bgcolor\":\"white\",\"landcolor\":\"#E5ECF6\",\"subunitcolor\":\"white\",\"showland\":true,\"showlakes\":true,\"lakecolor\":\"white\"},\"title\":{\"x\":0.05},\"mapbox\":{\"style\":\"light\"}}},\"legend\":{\"tracegroupgap\":0},\"margin\":{\"t\":60}},                        {\"responsive\": true}                    ).then(function(){\n",
       "                            \n",
       "var gd = document.getElementById('a0b18928-e08f-4257-a2db-23cbc33609f6');\n",
       "var x = new MutationObserver(function (mutations, observer) {{\n",
       "        var display = window.getComputedStyle(gd).display;\n",
       "        if (!display || display === 'none') {{\n",
       "            console.log([gd, 'removed!']);\n",
       "            Plotly.purge(gd);\n",
       "            observer.disconnect();\n",
       "        }}\n",
       "}});\n",
       "\n",
       "// Listen for the removal of the full notebook cells\n",
       "var notebookContainer = gd.closest('#notebook-container');\n",
       "if (notebookContainer) {{\n",
       "    x.observe(notebookContainer, {childList: true});\n",
       "}}\n",
       "\n",
       "// Listen for the clearing of the current output cell\n",
       "var outputEl = gd.closest('.output');\n",
       "if (outputEl) {{\n",
       "    x.observe(outputEl, {childList: true});\n",
       "}}\n",
       "\n",
       "                        })                };                });            </script>        </div>"
      ]
     },
     "metadata": {},
     "output_type": "display_data"
    }
   ],
   "source": [
    "import plotly.express as px\n",
    "data = dict(\n",
    "    character=[\"travel\", \"travel\", \"movie\", \"sports\", \"game\", \"food\", \n",
    "               \"travel\", \"movie\", \"sports\", \"game\", \"food\"],\n",
    "    parent=[\"\", \"positive\", \"positive\", \"before\", \"before\", \"before\",\"before\",\"before\", \n",
    "            \"after\",\"after\",\"after\",\"after\",\"after\"],\n",
    "    value=[0, 1.78, 1.813, 0.395, 0.289, 0.343, 0.359, 0.395, 0.362,0.307,0.356,0.399,0.388])\n",
    "\n",
    "fig = px.sunburst(\n",
    "    data,\n",
    "    names='character',\n",
    "    parents='parent',\n",
    "    values='value',\n",
    ")\n",
    "fig.show()"
   ]
  },
  {
   "cell_type": "code",
   "execution_count": 5,
   "id": "953046b3",
   "metadata": {},
   "outputs": [
    {
     "name": "stderr",
     "output_type": "stream",
     "text": [
      "Setting default log level to \"WARN\".\n",
      "To adjust logging level use sc.setLogLevel(newLevel). For SparkR, use setLogLevel(newLevel).\n"
     ]
    },
    {
     "ename": "KeyboardInterrupt",
     "evalue": "",
     "output_type": "error",
     "traceback": [
      "\u001b[0;31m---------------------------------------------------------------------------\u001b[0m",
      "\u001b[0;31mKeyboardInterrupt\u001b[0m                         Traceback (most recent call last)",
      "Input \u001b[0;32mIn [5]\u001b[0m, in \u001b[0;36m<cell line: 9>\u001b[0;34m()\u001b[0m\n\u001b[1;32m      7\u001b[0m \u001b[38;5;28;01mfrom\u001b[39;00m \u001b[38;5;21;01mpyspark\u001b[39;00m\u001b[38;5;21;01m.\u001b[39;00m\u001b[38;5;21;01msql\u001b[39;00m\u001b[38;5;21;01m.\u001b[39;00m\u001b[38;5;21;01mfunctions\u001b[39;00m \u001b[38;5;28;01mimport\u001b[39;00m col,udf,monotonically_increasing_id,unix_timestamp,\u001b[38;5;28mround\u001b[39m,avg\n\u001b[1;32m      8\u001b[0m \u001b[38;5;28;01mimport\u001b[39;00m \u001b[38;5;21;01mre\u001b[39;00m\n\u001b[0;32m----> 9\u001b[0m sc \u001b[38;5;241m=\u001b[39m \u001b[43mspark\u001b[49m\u001b[38;5;241;43m.\u001b[39;49m\u001b[43mSparkContext\u001b[49m\u001b[43m(\u001b[49m\u001b[43m)\u001b[49m\n\u001b[1;32m     10\u001b[0m sql \u001b[38;5;241m=\u001b[39m spark\u001b[38;5;241m.\u001b[39mSQLContext(sc)\n",
      "File \u001b[0;32m~/anaconda3/lib/python3.8/site-packages/pyspark/context.py:195\u001b[0m, in \u001b[0;36mSparkContext.__init__\u001b[0;34m(self, master, appName, sparkHome, pyFiles, environment, batchSize, serializer, conf, gateway, jsc, profiler_cls, udf_profiler_cls)\u001b[0m\n\u001b[1;32m    189\u001b[0m \u001b[38;5;28;01mif\u001b[39;00m gateway \u001b[38;5;129;01mis\u001b[39;00m \u001b[38;5;129;01mnot\u001b[39;00m \u001b[38;5;28;01mNone\u001b[39;00m \u001b[38;5;129;01mand\u001b[39;00m gateway\u001b[38;5;241m.\u001b[39mgateway_parameters\u001b[38;5;241m.\u001b[39mauth_token \u001b[38;5;129;01mis\u001b[39;00m \u001b[38;5;28;01mNone\u001b[39;00m:\n\u001b[1;32m    190\u001b[0m     \u001b[38;5;28;01mraise\u001b[39;00m \u001b[38;5;167;01mValueError\u001b[39;00m(\n\u001b[1;32m    191\u001b[0m         \u001b[38;5;124m\"\u001b[39m\u001b[38;5;124mYou are trying to pass an insecure Py4j gateway to Spark. This\u001b[39m\u001b[38;5;124m\"\u001b[39m\n\u001b[1;32m    192\u001b[0m         \u001b[38;5;124m\"\u001b[39m\u001b[38;5;124m is not allowed as it is a security risk.\u001b[39m\u001b[38;5;124m\"\u001b[39m\n\u001b[1;32m    193\u001b[0m     )\n\u001b[0;32m--> 195\u001b[0m \u001b[43mSparkContext\u001b[49m\u001b[38;5;241;43m.\u001b[39;49m\u001b[43m_ensure_initialized\u001b[49m\u001b[43m(\u001b[49m\u001b[38;5;28;43mself\u001b[39;49m\u001b[43m,\u001b[49m\u001b[43m \u001b[49m\u001b[43mgateway\u001b[49m\u001b[38;5;241;43m=\u001b[39;49m\u001b[43mgateway\u001b[49m\u001b[43m,\u001b[49m\u001b[43m \u001b[49m\u001b[43mconf\u001b[49m\u001b[38;5;241;43m=\u001b[39;49m\u001b[43mconf\u001b[49m\u001b[43m)\u001b[49m\n\u001b[1;32m    196\u001b[0m \u001b[38;5;28;01mtry\u001b[39;00m:\n\u001b[1;32m    197\u001b[0m     \u001b[38;5;28mself\u001b[39m\u001b[38;5;241m.\u001b[39m_do_init(\n\u001b[1;32m    198\u001b[0m         master,\n\u001b[1;32m    199\u001b[0m         appName,\n\u001b[0;32m   (...)\u001b[0m\n\u001b[1;32m    208\u001b[0m         udf_profiler_cls,\n\u001b[1;32m    209\u001b[0m     )\n",
      "File \u001b[0;32m~/anaconda3/lib/python3.8/site-packages/pyspark/context.py:417\u001b[0m, in \u001b[0;36mSparkContext._ensure_initialized\u001b[0;34m(cls, instance, gateway, conf)\u001b[0m\n\u001b[1;32m    415\u001b[0m \u001b[38;5;28;01mwith\u001b[39;00m SparkContext\u001b[38;5;241m.\u001b[39m_lock:\n\u001b[1;32m    416\u001b[0m     \u001b[38;5;28;01mif\u001b[39;00m \u001b[38;5;129;01mnot\u001b[39;00m SparkContext\u001b[38;5;241m.\u001b[39m_gateway:\n\u001b[0;32m--> 417\u001b[0m         SparkContext\u001b[38;5;241m.\u001b[39m_gateway \u001b[38;5;241m=\u001b[39m gateway \u001b[38;5;129;01mor\u001b[39;00m \u001b[43mlaunch_gateway\u001b[49m\u001b[43m(\u001b[49m\u001b[43mconf\u001b[49m\u001b[43m)\u001b[49m\n\u001b[1;32m    418\u001b[0m         SparkContext\u001b[38;5;241m.\u001b[39m_jvm \u001b[38;5;241m=\u001b[39m SparkContext\u001b[38;5;241m.\u001b[39m_gateway\u001b[38;5;241m.\u001b[39mjvm\n\u001b[1;32m    420\u001b[0m     \u001b[38;5;28;01mif\u001b[39;00m instance:\n",
      "File \u001b[0;32m~/anaconda3/lib/python3.8/site-packages/pyspark/java_gateway.py:103\u001b[0m, in \u001b[0;36mlaunch_gateway\u001b[0;34m(conf, popen_kwargs)\u001b[0m\n\u001b[1;32m    101\u001b[0m \u001b[38;5;66;03m# Wait for the file to appear, or for the process to exit, whichever happens first.\u001b[39;00m\n\u001b[1;32m    102\u001b[0m \u001b[38;5;28;01mwhile\u001b[39;00m \u001b[38;5;129;01mnot\u001b[39;00m proc\u001b[38;5;241m.\u001b[39mpoll() \u001b[38;5;129;01mand\u001b[39;00m \u001b[38;5;129;01mnot\u001b[39;00m os\u001b[38;5;241m.\u001b[39mpath\u001b[38;5;241m.\u001b[39misfile(conn_info_file):\n\u001b[0;32m--> 103\u001b[0m     \u001b[43mtime\u001b[49m\u001b[38;5;241;43m.\u001b[39;49m\u001b[43msleep\u001b[49m\u001b[43m(\u001b[49m\u001b[38;5;241;43m0.1\u001b[39;49m\u001b[43m)\u001b[49m\n\u001b[1;32m    105\u001b[0m \u001b[38;5;28;01mif\u001b[39;00m \u001b[38;5;129;01mnot\u001b[39;00m os\u001b[38;5;241m.\u001b[39mpath\u001b[38;5;241m.\u001b[39misfile(conn_info_file):\n\u001b[1;32m    106\u001b[0m     \u001b[38;5;28;01mraise\u001b[39;00m \u001b[38;5;167;01mRuntimeError\u001b[39;00m(\u001b[38;5;124m\"\u001b[39m\u001b[38;5;124mJava gateway process exited before sending its port number\u001b[39m\u001b[38;5;124m\"\u001b[39m)\n",
      "\u001b[0;31mKeyboardInterrupt\u001b[0m: "
     ]
    }
   ],
   "source": [
    "import pyspark as spark\n",
    "import pandas as pd\n",
    "import warnings\n",
    "warnings.filterwarnings('ignore')\n",
    "from pyspark.sql.types import *\n",
    "from pyspark.sql import SQLContext\n",
    "from pyspark.sql.functions import col,udf,monotonically_increasing_id,unix_timestamp,round,avg\n",
    "import re\n",
    "sc = spark.SparkContext()\n",
    "sql = spark.SQLContext(sc)"
   ]
  },
  {
   "cell_type": "code",
   "execution_count": 2,
   "id": "e3f845c4",
   "metadata": {},
   "outputs": [],
   "source": [
    "travel_before = pd.read_csv('data/travel_before_covid.csv')\n",
    "travel_after = pd.read_csv('data/travel_after_covid.csv')\n",
    "sports_before = pd.read_csv('data/sports_before_covid.csv')\n",
    "sports_after = pd.read_csv('data/sports_after_covid.csv')\n",
    "movie_before = pd.read_csv('data/movie_before_covid.csv')\n",
    "movie_after = pd.read_csv('data/movie_after_covid.csv')\n",
    "game_before = pd.read_csv('data/game_before_covid.csv')\n",
    "game_after = pd.read_csv('data/game_after_covid.csv')\n",
    "food_before = pd.read_csv('data/food_before_covid.csv')\n",
    "food_after = pd.read_csv('data/food_after_covid.csv')"
   ]
  },
  {
   "cell_type": "code",
   "execution_count": 7,
   "id": "f78404ed",
   "metadata": {},
   "outputs": [],
   "source": [
    "travel_before = pd.DataFrame(travel_before, columns=['Date', 'Content'])\n",
    "travel_after = pd.DataFrame(travel_after, columns=['Date', 'Content'])\n",
    "sports_before = pd.DataFrame(sports_before, columns=['Date', 'Content'])\n",
    "sports_after = pd.DataFrame(sports_after, columns=['Date', 'Content'])\n",
    "movie_before = pd.DataFrame(movie_before, columns=['Date', 'Content'])\n",
    "movie_after = pd.DataFrame(movie_after, columns=['Date', 'Content'])\n",
    "game_before = pd.DataFrame(game_before, columns=['Date', 'Content'])\n",
    "game_after = pd.DataFrame(game_after, columns=['Date', 'Content'])\n",
    "food_before = pd.DataFrame(food_before, columns=['Date', 'Content'])\n",
    "food_after = pd.DataFrame(food_after, columns=['Date', 'Content'])"
   ]
  },
  {
   "cell_type": "code",
   "execution_count": null,
   "id": "4539cfff",
   "metadata": {},
   "outputs": [],
   "source": []
  },
  {
   "cell_type": "code",
   "execution_count": 15,
   "id": "97bb6b76",
   "metadata": {},
   "outputs": [],
   "source": [
    "data=food_after\n",
    "cdata=pd.DataFrame(columns=['Date','Content'])\n",
    "index=0\n",
    "for index,row in data.iterrows():\n",
    "    stre=row[\"Content\"]\n",
    "    #the following cleaning steps are not the standard. You may generate your own ways of cleaning.\n",
    "    my_new_string = re.sub('#\\w+', '', stre) #remove the hashtags\n",
    "    my_new_string = re.sub('http\\S+', '', my_new_string) #remove the links\n",
    "    my_new_string = re.sub('\\n', '', my_new_string) #remove \\n\n",
    "    cdata.sort_index()\n",
    "    cdata.at[index,'Date']=row[\"Date\"]\n",
    "    cdata.at[index,'Content']=my_new_string\n",
    "    index=index+1\n",
    "food_after=cdata\n",
    "food_after['Date'] = food_after['Date'].astype('datetime64[ns]')\n",
    "food_after[\"Date\"]=food_after[\"Date\"].dt.date"
   ]
  },
  {
   "cell_type": "code",
   "execution_count": null,
   "id": "39bcbfaa",
   "metadata": {},
   "outputs": [],
   "source": [
    "travel_before.head()"
   ]
  },
  {
   "cell_type": "code",
   "execution_count": 52,
   "id": "9deb5489",
   "metadata": {},
   "outputs": [
    {
     "name": "stdout",
     "output_type": "stream",
     "text": [
      "+----------+-------------------------------------+-----+-----+-----+-------+\n",
      "| Date_Time|                              Content|p_neg|p_neu|p_pos| p_comp|\n",
      "+----------+-------------------------------------+-----+-----+-----+-------+\n",
      "|2020-05-31|                 WIN a Brand New A...|  0.0|0.788|0.212| 0.7284|\n",
      "|2020-05-31|                 What an awesome t...|  0.0| 0.71| 0.29| 0.8469|\n",
      "|2020-05-31|                 WHERE did this gu...|  0.0|  1.0|  0.0|    0.0|\n",
      "|2020-05-31|                 5 Untamed Packs G...|0.038|0.665|0.297| 0.8472|\n",
      "|2020-05-31|                 Play Word Collect...|  0.0|0.748|0.252| 0.4003|\n",
      "|2020-05-31|                 Bagus! Aku memeli...|  0.0|  1.0|  0.0|    0.0|\n",
      "|2020-05-31|                 31-05-20 Sunday n...|  0.0|  1.0|  0.0|    0.0|\n",
      "|2020-05-31|                 What an awesome t...|  0.0| 0.71| 0.29| 0.8469|\n",
      "|2020-05-31|                 Y en otras notici...|0.064|0.603|0.333| 0.8415|\n",
      "|2020-05-31|                 SWhat an awesome ...|  0.0| 0.71| 0.29| 0.8469|\n",
      "|2020-05-31|                 ดีมาก! ฉันเลี้ยงห...|  0.0|  1.0|  0.0|    0.0|\n",
      "|2020-05-31|                           BASE de...|  0.0|  1.0|  0.0|    0.0|\n",
      "|2020-05-31|                   Anti-Slip Grip ...|  0.0|  1.0|  0.0|    0.0|\n",
      "|2020-05-31|                   time for some t...|  0.0|  1.0|  0.0|    0.0|\n",
      "|2020-05-31|                 WIN a Brand New A...|  0.0|0.788|0.212| 0.7284|\n",
      "|2020-05-31|                 🔥 de mon  sur  d...| 0.23| 0.77|  0.0|-0.4559|\n",
      "|2020-05-31|   今日も電車でゲーム？、SNSしてる...|  0.0|  1.0|  0.0|    0.0|\n",
      "|2020-05-31|                 Play Word Collect...|  0.0|0.748|0.252| 0.4003|\n",
      "|2020-05-31|                 -  courtesy of  -...|  0.0|0.545|0.455| 0.3612|\n",
      "|2020-05-31|        【ショボーン無双】iOS/Andr...|  0.0|  1.0|  0.0|    0.0|\n",
      "|2020-05-31|                 What an awesome t...|  0.0| 0.71| 0.29| 0.8469|\n",
      "|2020-05-31|                 i have fallen in ...|0.149|0.537|0.314| 0.5815|\n",
      "|2020-05-31|      【総合】ポケモンGO 【山梨支部】|  0.0|  1.0|  0.0|    0.0|\n",
      "|2020-05-31|                     それ大事だよね #|  0.0|  1.0|  0.0|    0.0|\n",
      "|2020-05-31|                 Play Word Collect...|  0.0|0.748|0.252| 0.4003|\n",
      "|2020-05-31|                             海髭降臨|  0.0|  1.0|  0.0|    0.0|\n",
      "|2020-05-31|                 We are twins and ...|  0.0|0.425|0.575| 0.9422|\n",
      "|2020-05-31|                 Faz dez anos que ...|  0.0|  1.0|  0.0|    0.0|\n",
      "|2020-05-31|                 WIN a Brand New A...|  0.0|0.788|0.212| 0.7284|\n",
      "|2020-05-31|                 What an awesome t...|  0.0| 0.71| 0.29| 0.8469|\n",
      "|2020-05-31|                 I'm on with @Tave...|  0.0|  1.0|  0.0|    0.0|\n",
      "|2020-05-31|                 What system are y...|  0.0|  1.0|  0.0|    0.0|\n",
      "|2020-05-31|                 Changing it up pl...|  0.0| 0.87| 0.13| 0.2023|\n",
      "|2020-05-31|                 Changing it up pl...|  0.0| 0.87| 0.13| 0.2023|\n",
      "|2020-05-31|                 It's ten years si...|0.081|0.919|  0.0| -0.296|\n",
      "|2020-05-31|                 💰 Looking for a ...|0.127|0.873|  0.0|-0.4939|\n",
      "|2020-05-31|                 [Tapping Coupon] ...|  0.0|0.744|0.256| 0.5837|\n",
      "|2020-05-31|                        Borderland...|  0.0|0.672|0.328| 0.5994|\n",
      "|2020-05-31|                 Bora de CSGO     ...|  0.0|  1.0|  0.0|    0.0|\n",
      "|2020-05-31|バスの運転手リアルな音声ガイドで気...|  0.0|  1.0|  0.0|    0.0|\n",
      "|2020-05-31|                 Oh!  Pizza!!! 😍?...|  0.0|0.453|0.547|  0.858|\n",
      "|2020-05-31|                 Just put up a new...|  0.0|  1.0|  0.0|    0.0|\n",
      "|2020-05-31|                 I developed with ...|  0.0|0.909|0.091| 0.4926|\n",
      "|2020-05-31|                 Cargo Crew Port T...|  0.0|  1.0|  0.0|    0.0|\n",
      "|2020-05-31|                      LEGO Super M...|  0.0|0.613|0.387|  0.743|\n",
      "|2020-05-31|                         Final Fan...|  0.0|  1.0|  0.0|    0.0|\n",
      "|2020-05-31|                 inj hi guys I byN...|  0.0|  1.0|  0.0|    0.0|\n",
      "|2020-05-31|                 \"Fractions. Smart...|0.075|0.841|0.084| 0.0772|\n",
      "|2020-05-31|                 What an awesome t...|  0.0| 0.71| 0.29| 0.8469|\n",
      "|2020-05-31|                 Precious What an ...|  0.0|0.628|0.372| 0.9164|\n",
      "|2020-05-31|                 ADD SUBTITLES ON ...|  0.0|  1.0|  0.0|    0.0|\n",
      "|2020-05-31|                 Join  now and lea...|  0.0|0.804|0.196|  0.296|\n",
      "|2020-05-31|                                  ...|  0.0|  0.0|  0.0|    0.0|\n",
      "|2020-05-31|                    Michael Jordan...|  0.0|  1.0|  0.0|    0.0|\n",
      "|2020-05-31|                 Ready for Play? A...|  0.0|0.573|0.427| 0.9591|\n",
      "|2020-05-31|                 Play Word Collect...|  0.0|0.748|0.252| 0.4003|\n",
      "|2020-05-31|                 🔥How to Stream U...|  0.0|  1.0|  0.0|    0.0|\n",
      "|2020-05-31|                 🔥Google Chat's d...|  0.0|  1.0|  0.0|    0.0|\n",
      "|2020-05-31|                 🔥Apple May Not I...|  0.0|  1.0|  0.0|    0.0|\n",
      "|2020-05-31|                 🔥iOS 13.5 App St...|0.093|0.784|0.123| 0.1531|\n",
      "|2020-05-31|                 🔥Save up to $34 ...|  0.0|0.914|0.086| 0.1779|\n",
      "|2020-05-31|                 🔥Rainbow Six Sie...|  0.0|0.812|0.188| 0.4588|\n",
      "|2020-05-31|                 🔥Kingston KC2500...|  0.0|  1.0|  0.0|    0.0|\n",
      "|2020-05-31|                 🔥How to back up ...|  0.0|  1.0|  0.0|    0.0|\n",
      "|2020-05-31|                 🔥Apple Updates C...|  0.0|0.811|0.189| 0.6369|\n",
      "|2020-05-31|                 🔥Lens shortcut i...|  0.0|  1.0|  0.0|    0.0|\n",
      "|2020-05-31|                 What an awesome t...|  0.0| 0.71| 0.29| 0.8469|\n",
      "|2020-05-31|                 Little siege mont...|  0.0|  1.0|  0.0|    0.0|\n",
      "|2020-05-31|                 What an awesome t...|  0.0| 0.71| 0.29| 0.8469|\n",
      "|2020-05-31|                 A ,     perfect f...|  0.0|0.519|0.481| 0.5719|\n",
      "|2020-05-31|                 Play Word Collect...|  0.0|0.748|0.252| 0.4003|\n",
      "|2020-05-31|                 👽               ...|  0.0|  1.0|  0.0|    0.0|\n",
      "|2020-05-31|                 [63-8+1=82] Match...|  0.0|  1.0|  0.0|    0.0|\n",
      "|2020-05-31|                                  ...|  0.0|  0.0|  0.0|    0.0|\n",
      "|2020-05-31|                                  ...|  0.0|  0.0|  0.0|    0.0|\n",
      "|2020-05-31|                 wilycap @WilycapT...|  0.0|0.724|0.276| 0.7263|\n",
      "|2020-05-31|                 What an awesome t...|  0.0| 0.71| 0.29| 0.8469|\n",
      "|2020-05-31|                 WIN a Brand New A...|  0.0|0.788|0.212| 0.7284|\n",
      "|2020-05-31|      【総合】ポケモンGO 【愛知支部】|  0.0|  1.0|  0.0|    0.0|\n",
      "|2020-05-31|スピード、戦略、カスタマイズ！アリ...|  0.0|  1.0|  0.0|    0.0|\n",
      "|2020-05-31|       【強靭】ウォリアー総合【無敵】|  0.0|  1.0|  0.0|    0.0|\n",
      "|2020-05-31|                 KingPhychoticPand...|  0.0|0.655|0.345| 0.7003|\n",
      "|2020-05-31|                 What an awesome t...|  0.0| 0.71| 0.29| 0.8469|\n",
      "|2020-05-31|                 DemonSpeeder3 @De...|0.127|0.588|0.284| 0.4939|\n",
      "|2020-05-31|                 Here's How I Buil...|  0.0|  1.0|  0.0|    0.0|\n",
      "|2020-05-31|                 ‼NEW &amp; UPDATE...|  0.0|  1.0|  0.0|    0.0|\n",
      "|2020-05-31|                 DONT DIE 100 like...|0.134|0.517|0.349| 0.5798|\n",
      "|2020-05-31|                 Play the Fairway ...|  0.0| 0.65| 0.35| 0.4003|\n",
      "|2020-05-31|                 ⏰ Quick Trivia ⏰W...| 0.14|  0.7| 0.16| 0.1759|\n",
      "|2020-05-31|                 This  is so color...|  0.0|  1.0|  0.0|    0.0|\n",
      "|2020-05-31|                 Multiplication   ...|  0.0|  1.0|  0.0|    0.0|\n",
      "|2020-05-31|                 Fifa 20 Champions...|  0.0|0.541|0.459| 0.5267|\n",
      "|2020-05-31|      シュールな橋建設SLG続編『Pol...|  0.0|  1.0|  0.0|    0.0|\n",
      "|2020-05-31|                 Check out Battle ...|0.302|0.698|  0.0|-0.3818|\n",
      "|2020-05-31|                 I'm back! Sunday ...|0.166|0.834|  0.0|-0.5848|\n",
      "|2020-05-31|                 WIN a Brand New A...|  0.0|0.788|0.212| 0.7284|\n",
      "|2020-05-31|                 Simple addictive!...|  0.0|0.824|0.176| 0.6696|\n",
      "|2020-05-31|                 Como jogar free f...|0.289|0.503|0.208|-0.0772|\n",
      "|2020-05-31|                 WIN a Brand New A...|  0.0|0.788|0.212| 0.7284|\n",
      "|2020-05-31|                                  ...|  0.0|  0.0|  0.0|    0.0|\n",
      "|2020-05-31|                 WIN a Brand New A...|  0.0|0.788|0.212| 0.7284|\n",
      "|2020-05-31|                  面白いねぇ         |  0.0|  1.0|  0.0|    0.0|\n",
      "|2020-05-31|   なあにー？投げキッス で コテン☆...|  0.0|  1.0|  0.0|    0.0|\n",
      "|2020-05-31|                  ぴあの演奏         |  0.0|  1.0|  0.0|    0.0|\n",
      "|2020-05-31|                 B0RN_A55ASSIN now...|  0.0|0.711|0.289| 0.7263|\n",
      "|2020-05-31|                 Very energetic tr...|  0.0|0.715|0.285| 0.4927|\n",
      "|2020-05-31|                 Games submitted a...|0.062|0.937|  0.0| -0.296|\n",
      "|2020-05-31|                つんにきぃ！         |  0.0|  1.0|  0.0|    0.0|\n",
      "|2020-05-31|                 WIN a Brand New A...|  0.0|0.788|0.212| 0.7284|\n",
      "|2020-05-31|パァっと暗くなった飛びつかれた身体...|  0.0|  1.0|  0.0|    0.0|\n",
      "|2020-05-31|                 Artificial  in A ...|  0.0|  1.0|  0.0|    0.0|\n",
      "|2020-05-31|                 16 new words adde...|  0.0|0.849|0.151| 0.2808|\n",
      "|2020-05-31|                 What an awesome t...|  0.0| 0.71| 0.29| 0.8469|\n",
      "|2020-05-31|                 New platform drop...|  0.0|0.844|0.156| 0.7185|\n",
      "|2020-05-31|      【総合】ポケモンGO 【群馬支部】|  0.0|  1.0|  0.0|    0.0|\n",
      "|2020-05-31|                 Earn Focus Token ...|  0.0| 0.77| 0.23| 0.2714|\n",
      "|2020-05-31|     【動く】クリエイター総合【拠点】|  0.0|  1.0|  0.0|    0.0|\n",
      "|2020-05-31|                 《ユニソンリーグ板》|  0.0|  1.0|  0.0|    0.0|\n",
      "|2020-05-31|                 New options for e...|  0.0|0.675|0.325| 0.6486|\n",
      "|2020-05-31|                 Drive super cool ...|0.119|0.635|0.246| 0.4951|\n",
      "+----------+-------------------------------------+-----+-----+-----+-------+\n",
      "only showing top 120 rows\n",
      "\n"
     ]
    },
    {
     "name": "stderr",
     "output_type": "stream",
     "text": [
      "                                                                                \r"
     ]
    }
   ],
   "source": [
    "FullDataTw=sql.createDataFrame(game_after)\n",
    "FullDataTw = FullDataTw.dropna()\n",
    "FullDataTw.select(monotonically_increasing_id().alias(\"rowId\"),\"*\")\n",
    " #setting column names of Twitter dataset\n",
    "CleanDF = FullDataTw.withColumnRenamed('Contents', 'Content')\n",
    "CleanDF = FullDataTw.withColumnRenamed('Date', 'Date_Time')\n",
    "from vaderSentiment.vaderSentiment import SentimentIntensityAnalyzer\n",
    "analyser = SentimentIntensityAnalyzer()\n",
    "def senti_score_udf(sentence):\n",
    "    snt = analyser.polarity_scores(sentence)\n",
    "    return ([snt['neg'], snt['neu'], snt['pos'], snt['compound']])\n",
    "func_udf2 = udf(senti_score_udf, ArrayType(FloatType()))\n",
    "CleanDF = CleanDF.withColumn('p_neg', func_udf2(CleanDF['Content'])[0])  #withColumn function would generate the result with a new column name\n",
    "CleanDF = CleanDF.withColumn('p_neu', func_udf2(CleanDF['Content'])[1])\n",
    "CleanDF = CleanDF.withColumn('p_pos', func_udf2(CleanDF['Content'])[2])\n",
    "CleanDF = CleanDF.withColumn('p_comp', func_udf2(CleanDF['Content'])[3])\n",
    "CleanDF.show(120)\n",
    "CleanDF.toPandas().to_csv('game_after_sen.csv',index=False)"
   ]
  },
  {
   "cell_type": "code",
   "execution_count": 49,
   "id": "a180ab23",
   "metadata": {},
   "outputs": [],
   "source": [
    "tw=pd.read_csv(\"game_before_sen.csv\",lineterminator=\"\\n\")\n",
    "tw[\"length\"]=\"\"\n",
    "i=0\n",
    "# iterate through the csv file \n",
    "for val in tw[\"Content\"]: \n",
    "  val = str(val) \n",
    "  tokens = val.split() \n",
    "  tw[\"length\"][i]=len(tokens)\n",
    "  i=i+1\n",
    "tw=tw.drop(columns=[\"p_neg\",\"p_neu\",\"p_pos\"])"
   ]
  },
  {
   "cell_type": "code",
   "execution_count": 50,
   "id": "8e4858bb",
   "metadata": {},
   "outputs": [],
   "source": [
    "tw.loc[(tw['p_comp']>-0.05)&(tw['p_comp']<0.05),'sentiment']=\"neutral\"\n",
    "tw.loc[(tw['p_comp']>=0.05)&(tw['p_comp']<0.9),'sentiment']='positive'\n",
    "tw.loc[(tw['p_comp']<=-0.05)&(tw['p_comp']>-0.9),'sentiment']='negative'\n",
    "tw.loc[tw['p_comp']<=-0.9,'sentiment']='extremely negative'\n",
    "tw.loc[tw['p_comp']>=0.9,'sentiment']='extremely positive'\n",
    "tw.to_csv('game_before_p_comp.csv')"
   ]
  },
  {
   "cell_type": "code",
   "execution_count": null,
   "id": "56d170b0",
   "metadata": {},
   "outputs": [],
   "source": []
  }
 ],
 "metadata": {
  "kernelspec": {
   "display_name": "Python 3 (ipykernel)",
   "language": "python",
   "name": "python3"
  },
  "language_info": {
   "codemirror_mode": {
    "name": "ipython",
    "version": 3
   },
   "file_extension": ".py",
   "mimetype": "text/x-python",
   "name": "python",
   "nbconvert_exporter": "python",
   "pygments_lexer": "ipython3",
   "version": "3.8.13"
  },
  "toc": {
   "base_numbering": 1,
   "nav_menu": {},
   "number_sections": true,
   "sideBar": true,
   "skip_h1_title": false,
   "title_cell": "Table of Contents",
   "title_sidebar": "Contents",
   "toc_cell": false,
   "toc_position": {},
   "toc_section_display": true,
   "toc_window_display": false
  }
 },
 "nbformat": 4,
 "nbformat_minor": 5
}
