{
 "cells": [
  {
   "cell_type": "markdown",
   "metadata": {
    "id": "e19baa18"
   },
   "source": [
    "# Scraping Twitter data with snscrape"
   ]
  },
  {
   "cell_type": "code",
   "execution_count": 5,
   "metadata": {
    "id": "d4c6e7d6"
   },
   "outputs": [],
   "source": [
    "# import libraries\n",
    "import snscrape.modules.twitter as sntwitter\n",
    "import snscrape.modules.twitter\n",
    "\n",
    "import pandas as pd"
   ]
  },
  {
   "cell_type": "code",
   "execution_count": 6,
   "metadata": {
    "id": "bcd716e6"
   },
   "outputs": [],
   "source": [
    "# create a list to append twitter data to\n",
    "tweets_list1 = []\n",
    "\n",
    "# use TwitterSearchScraper to scrape data and append tweets to list\n",
    "for i, tweet in enumerate(sntwitter.TwitterSearchScraper('#sports since:2019-11-30 until:2019-12-31 ').get_items()):\n",
    "    tweets_list1.append([tweet.date,  tweet.content, tweet.user.location, tweet.likeCount])"
   ]
  },
  {
   "cell_type": "code",
   "execution_count": 7,
   "metadata": {
    "id": "86960147",
    "outputId": "cfcda3fd-f16c-43a6-df57-ef0e14ff0fec"
   },
   "outputs": [
    {
     "data": {
      "text/html": [
       "<div>\n",
       "<style scoped>\n",
       "    .dataframe tbody tr th:only-of-type {\n",
       "        vertical-align: middle;\n",
       "    }\n",
       "\n",
       "    .dataframe tbody tr th {\n",
       "        vertical-align: top;\n",
       "    }\n",
       "\n",
       "    .dataframe thead th {\n",
       "        text-align: right;\n",
       "    }\n",
       "</style>\n",
       "<table border=\"1\" class=\"dataframe\">\n",
       "  <thead>\n",
       "    <tr style=\"text-align: right;\">\n",
       "      <th></th>\n",
       "      <th>Date</th>\n",
       "      <th>Content</th>\n",
       "      <th>User's location</th>\n",
       "      <th># of likes</th>\n",
       "    </tr>\n",
       "  </thead>\n",
       "  <tbody>\n",
       "    <tr>\n",
       "      <th>0</th>\n",
       "      <td>2019-12-30 23:59:21+00:00</td>\n",
       "      <td>The lines for the NFL playoffs have been made....</td>\n",
       "      <td></td>\n",
       "      <td>0</td>\n",
       "    </tr>\n",
       "    <tr>\n",
       "      <th>1</th>\n",
       "      <td>2019-12-30 23:58:26+00:00</td>\n",
       "      <td>If its #sports you love and you enjoy our #box...</td>\n",
       "      <td>WORLDWIDE</td>\n",
       "      <td>0</td>\n",
       "    </tr>\n",
       "    <tr>\n",
       "      <th>2</th>\n",
       "      <td>2019-12-30 23:58:15+00:00</td>\n",
       "      <td>I participate in sports gambling just so I can...</td>\n",
       "      <td>USOFABABY</td>\n",
       "      <td>4</td>\n",
       "    </tr>\n",
       "    <tr>\n",
       "      <th>3</th>\n",
       "      <td>2019-12-30 23:57:09+00:00</td>\n",
       "      <td>@Castro1021 https://t.co/EJyRz4Z21J #news #spo...</td>\n",
       "      <td></td>\n",
       "      <td>0</td>\n",
       "    </tr>\n",
       "    <tr>\n",
       "      <th>4</th>\n",
       "      <td>2019-12-30 23:57:05+00:00</td>\n",
       "      <td>Sport - David Moyes  : « J'ai une autre chance...</td>\n",
       "      <td>Paris, France</td>\n",
       "      <td>0</td>\n",
       "    </tr>\n",
       "    <tr>\n",
       "      <th>...</th>\n",
       "      <td>...</td>\n",
       "      <td>...</td>\n",
       "      <td>...</td>\n",
       "      <td>...</td>\n",
       "    </tr>\n",
       "    <tr>\n",
       "      <th>68130</th>\n",
       "      <td>2019-11-30 00:02:52+00:00</td>\n",
       "      <td>#DMcertified ...\\n\\nApex Predators \\n\\n#DMcoll...</td>\n",
       "      <td>Las Vegas, NV</td>\n",
       "      <td>0</td>\n",
       "    </tr>\n",
       "    <tr>\n",
       "      <th>68131</th>\n",
       "      <td>2019-11-30 00:00:27+00:00</td>\n",
       "      <td>RT @TheJunkPicker\\nWhen Baseball Was Baseball\\...</td>\n",
       "      <td>US</td>\n",
       "      <td>0</td>\n",
       "    </tr>\n",
       "    <tr>\n",
       "      <th>68132</th>\n",
       "      <td>2019-11-30 00:00:24+00:00</td>\n",
       "      <td>https://t.co/0dBUpxkYhh #ravens #baltimore #fo...</td>\n",
       "      <td>Florida, USA</td>\n",
       "      <td>0</td>\n",
       "    </tr>\n",
       "    <tr>\n",
       "      <th>68133</th>\n",
       "      <td>2019-11-30 00:00:23+00:00</td>\n",
       "      <td>#lingo #words #education #knowledge #realestat...</td>\n",
       "      <td>Scottsdale, AZ</td>\n",
       "      <td>0</td>\n",
       "    </tr>\n",
       "    <tr>\n",
       "      <th>68134</th>\n",
       "      <td>2019-11-30 00:00:03+00:00</td>\n",
       "      <td>Today's YouTube trend is...\\n\\nKlinsmann der H...</td>\n",
       "      <td>Tokyo-to, Japan</td>\n",
       "      <td>2</td>\n",
       "    </tr>\n",
       "  </tbody>\n",
       "</table>\n",
       "<p>68135 rows × 4 columns</p>\n",
       "</div>"
      ],
      "text/plain": [
       "                           Date  \\\n",
       "0     2019-12-30 23:59:21+00:00   \n",
       "1     2019-12-30 23:58:26+00:00   \n",
       "2     2019-12-30 23:58:15+00:00   \n",
       "3     2019-12-30 23:57:09+00:00   \n",
       "4     2019-12-30 23:57:05+00:00   \n",
       "...                         ...   \n",
       "68130 2019-11-30 00:02:52+00:00   \n",
       "68131 2019-11-30 00:00:27+00:00   \n",
       "68132 2019-11-30 00:00:24+00:00   \n",
       "68133 2019-11-30 00:00:23+00:00   \n",
       "68134 2019-11-30 00:00:03+00:00   \n",
       "\n",
       "                                                 Content  User's location  \\\n",
       "0      The lines for the NFL playoffs have been made....                    \n",
       "1      If its #sports you love and you enjoy our #box...        WORLDWIDE   \n",
       "2      I participate in sports gambling just so I can...        USOFABABY   \n",
       "3      @Castro1021 https://t.co/EJyRz4Z21J #news #spo...                    \n",
       "4      Sport - David Moyes  : « J'ai une autre chance...   Paris, France    \n",
       "...                                                  ...              ...   \n",
       "68130  #DMcertified ...\\n\\nApex Predators \\n\\n#DMcoll...    Las Vegas, NV   \n",
       "68131  RT @TheJunkPicker\\nWhen Baseball Was Baseball\\...               US   \n",
       "68132  https://t.co/0dBUpxkYhh #ravens #baltimore #fo...     Florida, USA   \n",
       "68133  #lingo #words #education #knowledge #realestat...   Scottsdale, AZ   \n",
       "68134  Today's YouTube trend is...\\n\\nKlinsmann der H...  Tokyo-to, Japan   \n",
       "\n",
       "       # of likes  \n",
       "0               0  \n",
       "1               0  \n",
       "2               4  \n",
       "3               0  \n",
       "4               0  \n",
       "...           ...  \n",
       "68130           0  \n",
       "68131           0  \n",
       "68132           0  \n",
       "68133           0  \n",
       "68134           2  \n",
       "\n",
       "[68135 rows x 4 columns]"
      ]
     },
     "execution_count": 7,
     "metadata": {},
     "output_type": "execute_result"
    }
   ],
   "source": [
    "# create a dataframe to view the result\n",
    "tweets_df1 = pd.DataFrame(tweets_list1, columns=['Date', 'Content', 'User\\'s location', '# of likes'])\n",
    "tweets_df1.to_csv('sports_before_covid.csv')\n",
    "tweets_df1"
   ]
  },
  {
   "cell_type": "code",
   "execution_count": null,
   "metadata": {},
   "outputs": [],
   "source": []
  }
 ],
 "metadata": {
  "colab": {
   "name": "STATS401_lab3_data_scraper.ipynb",
   "provenance": []
  },
  "kernelspec": {
   "display_name": "Python 3",
   "language": "python",
   "name": "python3"
  },
  "language_info": {
   "codemirror_mode": {
    "name": "ipython",
    "version": 3
   },
   "file_extension": ".py",
   "mimetype": "text/x-python",
   "name": "python",
   "nbconvert_exporter": "python",
   "pygments_lexer": "ipython3",
   "version": "3.8.5"
  }
 },
 "nbformat": 4,
 "nbformat_minor": 5
}
